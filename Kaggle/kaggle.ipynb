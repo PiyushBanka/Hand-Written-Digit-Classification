{
 "cells": [
  {
   "cell_type": "code",
   "execution_count": 1,
   "id": "2771c5e8",
   "metadata": {},
   "outputs": [],
   "source": [
    "import tensorflow as tf\n",
    "import pandas as pd\n",
    "import matplotlib.pyplot as plt\n",
    "import numpy as np\n",
    "from tensorflow.keras.models import Sequential\n",
    "from tensorflow.keras.layers import Dense, Dropout, Activation, Flatten, Conv2D, MaxPooling2D"
   ]
  },
  {
   "cell_type": "code",
   "execution_count": 2,
   "id": "1a7b0afb",
   "metadata": {},
   "outputs": [
    {
     "name": "stdout",
     "output_type": "stream",
     "text": [
      "<class 'pandas.core.frame.DataFrame'>\n",
      "RangeIndex: 42000 entries, 0 to 41999\n",
      "Columns: 785 entries, label to pixel783\n",
      "dtypes: int64(785)\n",
      "memory usage: 251.5 MB\n"
     ]
    }
   ],
   "source": [
    "train = pd.read_csv('train.csv')\n",
    "train.info()\n",
    "train = np.array(train)"
   ]
  },
  {
   "cell_type": "code",
   "execution_count": 3,
   "id": "fc3f1b33",
   "metadata": {},
   "outputs": [],
   "source": [
    "x_train = train[:,1:]\n",
    "y_train = train[:,0]"
   ]
  },
  {
   "cell_type": "code",
   "execution_count": 4,
   "id": "d72640c4",
   "metadata": {},
   "outputs": [
    {
     "data": {
      "text/plain": [
       "(784,)"
      ]
     },
     "execution_count": 4,
     "metadata": {},
     "output_type": "execute_result"
    }
   ],
   "source": [
    "x_train[0].shape"
   ]
  },
  {
   "cell_type": "code",
   "execution_count": 5,
   "id": "73e68f32",
   "metadata": {},
   "outputs": [
    {
     "data": {
      "text/plain": [
       "array([1, 0, 1, ..., 7, 6, 9], dtype=int64)"
      ]
     },
     "execution_count": 5,
     "metadata": {},
     "output_type": "execute_result"
    }
   ],
   "source": [
    "y_train"
   ]
  },
  {
   "cell_type": "code",
   "execution_count": 6,
   "id": "74c79ade",
   "metadata": {},
   "outputs": [],
   "source": [
    "x_train = tf.convert_to_tensor(x_train)\n",
    "y_train = tf.convert_to_tensor(y_train)"
   ]
  },
  {
   "cell_type": "code",
   "execution_count": 7,
   "id": "815fed3d",
   "metadata": {},
   "outputs": [],
   "source": [
    "x_train = tf.keras.utils.normalize(x_train, axis = 1)"
   ]
  },
  {
   "cell_type": "code",
   "execution_count": 8,
   "id": "064b89cf",
   "metadata": {},
   "outputs": [
    {
     "data": {
      "text/plain": [
       "(42000, 28, 28, 1)"
      ]
     },
     "execution_count": 8,
     "metadata": {},
     "output_type": "execute_result"
    }
   ],
   "source": [
    "x_trainr = np.array(x_train).reshape(42000,28,28,1)\n",
    "x_trainr.shape"
   ]
  },
  {
   "cell_type": "code",
   "execution_count": 9,
   "id": "6c0f86ab",
   "metadata": {
    "scrolled": true
   },
   "outputs": [
    {
     "name": "stdout",
     "output_type": "stream",
     "text": [
      "Model: \"sequential\"\n",
      "_________________________________________________________________\n",
      " Layer (type)                Output Shape              Param #   \n",
      "=================================================================\n",
      " conv2d (Conv2D)             (None, 26, 26, 64)        640       \n",
      "                                                                 \n",
      " max_pooling2d (MaxPooling2D  (None, 13, 13, 64)       0         \n",
      " )                                                               \n",
      "                                                                 \n",
      " conv2d_1 (Conv2D)           (None, 11, 11, 64)        36928     \n",
      "                                                                 \n",
      " max_pooling2d_1 (MaxPooling  (None, 5, 5, 64)         0         \n",
      " 2D)                                                             \n",
      "                                                                 \n",
      " conv2d_2 (Conv2D)           (None, 3, 3, 64)          36928     \n",
      "                                                                 \n",
      " max_pooling2d_2 (MaxPooling  (None, 1, 1, 64)         0         \n",
      " 2D)                                                             \n",
      "                                                                 \n",
      " flatten (Flatten)           (None, 64)                0         \n",
      "                                                                 \n",
      " dense (Dense)               (None, 64)                4160      \n",
      "                                                                 \n",
      " dense_1 (Dense)             (None, 32)                2080      \n",
      "                                                                 \n",
      " dense_2 (Dense)             (None, 10)                330       \n",
      "                                                                 \n",
      "=================================================================\n",
      "Total params: 81,066\n",
      "Trainable params: 81,066\n",
      "Non-trainable params: 0\n",
      "_________________________________________________________________\n"
     ]
    }
   ],
   "source": [
    "INPUT_SHAPE = (28,28,1)\n",
    "model = Sequential()\n",
    "\n",
    "#first layer \n",
    "model.add(Conv2D(64, (3,3),activation = 'relu', input_shape = INPUT_SHAPE))\n",
    "model.add(MaxPooling2D(pool_size = (2,2)))\n",
    "\n",
    "#second layer\n",
    "model.add(Conv2D(64, (3,3),activation = 'relu'))\n",
    "model.add(MaxPooling2D(pool_size = (2,2)))\n",
    "\n",
    "#third layer \n",
    "model.add(Conv2D(64, (3,3),activation = 'relu'))\n",
    "model.add(MaxPooling2D(pool_size = (2,2)))\n",
    "\n",
    "#neural network\n",
    "model.add(Flatten())\n",
    "model.add(Dense(64,activation = 'relu'))\n",
    "model.add(Dense(32,activation = 'relu'))\n",
    "model.add(Dense(10,activation = 'softmax'))\n",
    "\n",
    "model.summary()"
   ]
  },
  {
   "cell_type": "code",
   "execution_count": 10,
   "id": "0ae9c1fd",
   "metadata": {},
   "outputs": [],
   "source": [
    "model.compile(loss = \"sparse_categorical_crossentropy\", optimizer = \"adam\", metrics = ['accuracy'])"
   ]
  },
  {
   "cell_type": "code",
   "execution_count": 11,
   "id": "e7b78123",
   "metadata": {},
   "outputs": [
    {
     "name": "stdout",
     "output_type": "stream",
     "text": [
      "Epoch 1/10\n",
      "1050/1050 [==============================] - 19s 18ms/step - loss: 0.4360 - accuracy: 0.8601 - val_loss: 0.1546 - val_accuracy: 0.9527\n",
      "Epoch 2/10\n",
      "1050/1050 [==============================] - 19s 18ms/step - loss: 0.1361 - accuracy: 0.9580 - val_loss: 0.1114 - val_accuracy: 0.9646\n",
      "Epoch 3/10\n",
      "1050/1050 [==============================] - 22s 21ms/step - loss: 0.0983 - accuracy: 0.9703 - val_loss: 0.0955 - val_accuracy: 0.9702\n",
      "Epoch 4/10\n",
      "1050/1050 [==============================] - 22s 21ms/step - loss: 0.0791 - accuracy: 0.9752 - val_loss: 0.0763 - val_accuracy: 0.9761\n",
      "Epoch 5/10\n",
      "1050/1050 [==============================] - 23s 22ms/step - loss: 0.0652 - accuracy: 0.9793 - val_loss: 0.0623 - val_accuracy: 0.9807\n",
      "Epoch 6/10\n",
      "1050/1050 [==============================] - 18s 17ms/step - loss: 0.0530 - accuracy: 0.9828 - val_loss: 0.0679 - val_accuracy: 0.9787\n",
      "Epoch 7/10\n",
      "1050/1050 [==============================] - 18s 17ms/step - loss: 0.0449 - accuracy: 0.9852 - val_loss: 0.0709 - val_accuracy: 0.9786\n",
      "Epoch 8/10\n",
      "1050/1050 [==============================] - 18s 17ms/step - loss: 0.0406 - accuracy: 0.9867 - val_loss: 0.0670 - val_accuracy: 0.9788\n",
      "Epoch 9/10\n",
      "1050/1050 [==============================] - 18s 17ms/step - loss: 0.0325 - accuracy: 0.9896 - val_loss: 0.0906 - val_accuracy: 0.9718\n",
      "Epoch 10/10\n",
      "1050/1050 [==============================] - 18s 17ms/step - loss: 0.0294 - accuracy: 0.9902 - val_loss: 0.0656 - val_accuracy: 0.9827\n"
     ]
    },
    {
     "data": {
      "text/plain": [
       "<keras.callbacks.History at 0x2739e22b850>"
      ]
     },
     "execution_count": 11,
     "metadata": {},
     "output_type": "execute_result"
    }
   ],
   "source": [
    "model.fit(x_trainr, y_train, epochs = 10, validation_split = 0.2)"
   ]
  },
  {
   "cell_type": "code",
   "execution_count": 12,
   "id": "c196fb0f",
   "metadata": {},
   "outputs": [],
   "source": [
    "test = pd.read_csv('test.csv')\n",
    "x_test = np.array(test)\n",
    "lenth = len(x_test)\n",
    "x_test = tf.convert_to_tensor(x_test)\n",
    "x_test = tf.keras.utils.normalize(x_test, axis = 1)\n",
    "x_testr = np.array(x_test).reshape(lenth,28,28,1)"
   ]
  },
  {
   "cell_type": "code",
   "execution_count": 13,
   "id": "28cb5a1c",
   "metadata": {},
   "outputs": [
    {
     "name": "stdout",
     "output_type": "stream",
     "text": [
      "875/875 [==============================] - 8s 9ms/step\n"
     ]
    }
   ],
   "source": [
    "predictions = model.predict(x_testr)"
   ]
  },
  {
   "cell_type": "code",
   "execution_count": 14,
   "id": "75e36b87",
   "metadata": {},
   "outputs": [
    {
     "name": "stdout",
     "output_type": "stream",
     "text": [
      "2\n"
     ]
    },
    {
     "data": {
      "image/png": "[encoded data removed]",
      "text/plain": [
       "<Figure size 432x288 with 1 Axes>"
      ]
     },
     "metadata": {
      "needs_background": "light"
     },
     "output_type": "display_data"
    }
   ],
   "source": [
    "plt.imshow(x_testr[0])\n",
    "print(np.argmax(predictions[0]))"
   ]
  },
  {
   "cell_type": "code",
   "execution_count": 15,
   "id": "5891e477",
   "metadata": {},
   "outputs": [],
   "source": [
    "final = np.argmax(predictions, axis  = 1)"
   ]
  },
  {
   "cell_type": "code",
   "execution_count": 16,
   "id": "bee9fb8c",
   "metadata": {},
   "outputs": [],
   "source": [
    "test_label = pd.DataFrame(final, columns = ['Label'])\n",
    "test_label.index.name = 'ImageId'\n",
    "test_label.index += 1 "
   ]
  },
  {
   "cell_type": "code",
   "execution_count": 17,
   "id": "2cf2146d",
   "metadata": {},
   "outputs": [],
   "source": [
    "test_label.to_csv('submission.csv')"
   ]
  }
 ],
 "metadata": {
  "kernelspec": {
   "display_name": "Python 3 (ipykernel)",
   "language": "python",
   "name": "python3"
  },
  "language_info": {
   "codemirror_mode": {
    "name": "ipython",
    "version": 3
   },
   "file_extension": ".py",
   "mimetype": "text/x-python",
   "name": "python",
   "nbconvert_exporter": "python",
   "pygments_lexer": "ipython3",
   "version": "3.9.7"
  }
 },
 "nbformat": 4,
 "nbformat_minor": 5
}
